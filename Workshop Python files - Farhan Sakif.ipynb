{
 "cells": [
  {
   "cell_type": "markdown",
   "metadata": {},
   "source": [
    "# Safe dict reading\n",
    "\n",
    "define a function `safe_dict(d, k)` that takes in a python dict `d` and a key `k` and makes it safe to read even with keys that aren't in the dictionary. If you try to read from the dictionary with a bad key, it should return 0 instead.\n",
    "\n",
    "```\n",
    "d = {1 : 2, 3 : 4}\n",
    "safe_dict(d, 1) -> 2\n",
    "safe_dict(d, 'cat') -> 0\n",
    "```"
   ]
  },
  {
   "cell_type": "code",
   "execution_count": 4,
   "metadata": {},
   "outputs": [
    {
     "name": "stdout",
     "output_type": "stream",
     "text": [
      "0\n",
      "2\n",
      "0\n",
      "4\n",
      "0\n"
     ]
    }
   ],
   "source": [
    "d = {1: 2, 3: 4, 5: 6, 7: 8, 9: 10, 11: 12}\n",
    "\n",
    "def safe_dict(d, k):\n",
    "    '''\n",
    "    - First determine if k a value in dictionary d\n",
    "        - if not, return 0\n",
    "    - Then return the value of that key\n",
    "    '''\n",
    "    if k in d:\n",
    "        for i in d:\n",
    "            return(d.get(k))\n",
    "    else:\n",
    "        return 0\n",
    "    \n",
    "    \n",
    "print(safe_dict(d, 'cat'))\n",
    "print(safe_dict(d, 1))\n",
    "print(safe_dict(d, 2))\n",
    "print(safe_dict(d, 3))\n",
    "print(safe_dict(d, 67565342))\n",
    "\n"
   ]
  },
  {
   "cell_type": "markdown",
   "metadata": {
    "colab": {},
    "colab_type": "code",
    "id": "tl_ZhkbEtiTD"
   },
   "source": [
    "# File Reading: Hamlet Exercises\n",
    "\n",
    "Open `hamlet.txt` in the `data` folder\n",
    "\n",
    "### 1. Mentionned Hamlet\n",
    "\n",
    "How many times is hamlet mentioned in the book?\n",
    "\n",
    "Use python and line iteration to count it up"
   ]
  },
  {
   "cell_type": "code",
   "execution_count": 37,
   "metadata": {},
   "outputs": [
    {
     "data": {
      "text/plain": [
       "474"
      ]
     },
     "execution_count": 37,
     "metadata": {},
     "output_type": "execute_result"
    }
   ],
   "source": [
    "hamlet = open('C:/Users/farha/Documents/m1-4-files-strings/data/hamlet.txt')\n",
    "\n",
    "def word_count(x):\n",
    "    '''\n",
    "    - Convert all strings to lower case to account for both HAMLET and Hamlet\n",
    "    - Then return the count using .count()\n",
    "    '''\n",
    "    \n",
    "    lines = hamlet.read()\n",
    "    lowercase = lines.lower()\n",
    "      \n",
    "    return lowercase.count(x)\n",
    "        \n",
    "word_count(\"hamlet\")"
   ]
  },
  {
   "cell_type": "markdown",
   "metadata": {},
   "source": [
    "### 2. File Reading as a .py program\n",
    "\n",
    "Make a python file that defines a function that counts the number of times hamlet is mentionned using the code in the previous exercise.\n",
    "\n",
    "Then import it in your notebook and call it here."
   ]
  },
  {
   "cell_type": "code",
   "execution_count": 45,
   "metadata": {},
   "outputs": [
    {
     "data": {
      "text/plain": [
       "474"
      ]
     },
     "execution_count": 45,
     "metadata": {},
     "output_type": "execute_result"
    }
   ],
   "source": [
    "exec(open(\"ham.py\").read())\n",
    "\n",
    "word_count(\"hamlet\")"
   ]
  },
  {
   "cell_type": "markdown",
   "metadata": {},
   "source": [
    "### 3. Unique words in hamlet\n",
    "\n",
    "Write a program that counts the unique words in hamlet."
   ]
  },
  {
   "cell_type": "code",
   "execution_count": 73,
   "metadata": {},
   "outputs": [
    {
     "name": "stdout",
     "output_type": "stream",
     "text": [
      "8563\n",
      "34062\n"
     ]
    }
   ],
   "source": [
    "'''\n",
    "- Convert all lines into a list of strings where each element is each word\n",
    "- Convert the list to a set to get the unique values\n",
    "'''\n",
    "\n",
    "hamlet = open('C:/Users/farha/Documents/m1-4-files-strings/data/hamlet.txt')\n",
    "\n",
    "word_list = []\n",
    "for line in hamlet.readlines():\n",
    "    for i in line.split(' '):\n",
    "        word_list.append(i)\n",
    "\n",
    "unique_elements = set(word_list)\n",
    "\n",
    "print(len(unique_elements))\n",
    "print(len(word_list))"
   ]
  },
  {
   "cell_type": "markdown",
   "metadata": {},
   "source": [
    "# File Reading 2: A Python library.\n",
    "\n",
    "In the `data` folder, you will find a folder called `csrgraph` which is a python library.\n",
    "\n",
    "### 1. File count\n",
    "\n",
    "Count the `py` files in the library using the `os` package"
   ]
  },
  {
   "cell_type": "code",
   "execution_count": 4,
   "metadata": {},
   "outputs": [
    {
     "name": "stdout",
     "output_type": "stream",
     "text": [
      "8\n"
     ]
    }
   ],
   "source": [
    "import os\n",
    "\n",
    "os.chdir('C:/Users/farha/Documents/m1-4-files-strings/data/csrgraph')\n",
    "\n",
    "file_list = os.listdir()\n",
    "file_count = len(file_list)\n",
    "print(file_count)"
   ]
  },
  {
   "cell_type": "markdown",
   "metadata": {},
   "source": [
    "### 2. For the following packages, count the number of files that import them:\n",
    "\n",
    "- pandas \n",
    "\n",
    "- numpy\n",
    "\n",
    "- numba"
   ]
  },
  {
   "cell_type": "code",
   "execution_count": 35,
   "metadata": {},
   "outputs": [
    {
     "name": "stdout",
     "output_type": "stream",
     "text": [
      "Number of files that import Pandas: 4\n",
      "Number of files that import Numpy: 6\n",
      "Number of files that import Numba: 5\n"
     ]
    }
   ],
   "source": [
    "def package_count():\n",
    "    '''\n",
    "    - Obtain list of files in directory\n",
    "    - Join the path with the names of the files\n",
    "    - Open the files\n",
    "    - And then search for the relevant strings and add to their respective counters\n",
    "    '''\n",
    "    pandas_count = 0\n",
    "    numpy_count = 0\n",
    "    numba_count = 0\n",
    "    for all_files in os.listdir('C:/Users/farha/Documents/m1-4-files-strings/data/csrgraph'):\n",
    "        files = os.path.join('C:/Users/farha/Documents/m1-4-files-strings/data/csrgraph', all_files)\n",
    "        x = open(files)\n",
    "        for lines in x.readlines():\n",
    "            if \"import pandas\" in lines:\n",
    "                pandas_count += 1\n",
    "            if \"import numpy\" in lines:\n",
    "                numpy_count += 1\n",
    "            if \"import numba\" in lines:\n",
    "                numba_count += 1\n",
    "    \n",
    "    print(\"Number of files that import Pandas: \" + str(pandas_count))\n",
    "    print(\"Number of files that import Numpy: \" + str(numpy_count))\n",
    "    print(\"Number of files that import Numba: \" + str(numba_count))\n",
    "    \n",
    "package_count()"
   ]
  },
  {
   "cell_type": "markdown",
   "metadata": {},
   "source": [
    "# First NLP Program: IDF\n",
    "\n",
    "Given a list of words, the the inverse document frequency (IDF) is a basic statistic of the amount of information of each word in the text.\n",
    "\n",
    "The IDF formulat is:\n",
    "\n",
    "$$IDF(w) = ln(\\dfrac{N}{1 + n(w)})$$\n",
    "\n",
    "Where:\n",
    "\n",
    "- $w$ is the token (unique word),\n",
    "- $n(w)$ is the number of documents that $w$ occurs in,\n",
    "- $N$ is the total number of documents\n",
    "\n",
    "Write a function, `idf(docs)` that takes in a list of lists of words and returns a dictionary  `word -> idf score`\n",
    "\n",
    "Example:\n",
    "\n",
    "```\n",
    "IDF([['interview', 'questions'], ['interview', 'answers']]) -> {'questions': 0.0, \n",
    "                                                                'interview': -0.4, \n",
    "                                                                'answers': 0.0}\n",
    "\n",
    "\n",
    "```"
   ]
  },
  {
   "cell_type": "code",
   "execution_count": 63,
   "metadata": {},
   "outputs": [
    {
     "data": {
      "text/plain": [
       "{'interview': -0.40546510810816444, 'questions': 0.0, 'answers': 0.0}"
      ]
     },
     "execution_count": 63,
     "metadata": {},
     "output_type": "execute_result"
    }
   ],
   "source": [
    "import math\n",
    "\n",
    "def idf(docs):\n",
    "    '''\n",
    "    - First create a normal dictionary for all words and how many times they appear\n",
    "    - Then create a new dictionary and use the IDF formula on the dictionary to calculate IDF\n",
    "    '''\n",
    "    dictionary = {}\n",
    "    for documents in docs:\n",
    "        for word in documents:\n",
    "            if word in dictionary:\n",
    "                dictionary[word] += 1\n",
    "            else:\n",
    "                dictionary[word] = 1\n",
    "    \n",
    "    idf_dictionary = {}\n",
    "    for word in dictionary:\n",
    "        idf_dictionary[word] = math.log(len(docs) / (1 + dictionary[word]))\n",
    "     \n",
    "    return idf_dictionary\n",
    "    \n",
    "idf([['interview', 'questions'], ['interview', 'answers']])"
   ]
  },
  {
   "cell_type": "markdown",
   "metadata": {
    "colab": {},
    "colab_type": "code",
    "id": "82bfnc_KueoX"
   },
   "source": [
    "# Stretch Goal: TF-IDF on Hamlet\n",
    "\n",
    "The TF-IDF score is a commonly used statistic for the importance of words. Its $\\frac{TF}{IDF}$ where TF is the \"term frequency\" (eg. how often the words happens in the document).\n",
    "\n",
    "Calculate the TF-IDF dictionary on the Hamlet book.\n",
    "\n",
    "What's the TF-IDF of \"Hamlet\"?\n",
    "\n",
    "What's the word with the highest TF-IDF in the book?"
   ]
  },
  {
   "cell_type": "markdown",
   "metadata": {},
   "source": [
    "# Stretch Goal: Speaker count\n",
    "\n",
    "Use a regular expression and looping over the `hamlet.txt` file to build a dictionary `character_name -> # times speaking`.\n",
    "\n",
    "Who speaks the most often? Who speaks the least often?"
   ]
  }
 ],
 "metadata": {
  "colab": {
   "authorship_tag": "ABX9TyPMuPsz+efoYpJzg8ElS0Ut",
   "collapsed_sections": [],
   "name": "Workshop Python Intro.ipynb",
   "provenance": []
  },
  "kernelspec": {
   "display_name": "Python 3",
   "language": "python",
   "name": "python3"
  },
  "language_info": {
   "codemirror_mode": {
    "name": "ipython",
    "version": 3
   },
   "file_extension": ".py",
   "mimetype": "text/x-python",
   "name": "python",
   "nbconvert_exporter": "python",
   "pygments_lexer": "ipython3",
   "version": "3.8.3"
  }
 },
 "nbformat": 4,
 "nbformat_minor": 1
}
