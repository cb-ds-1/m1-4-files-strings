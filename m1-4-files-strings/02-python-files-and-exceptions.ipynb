{
 "cells": [
  {
   "cell_type": "markdown",
   "metadata": {
    "colab_type": "text",
    "id": "uKTbXzpOgCb_"
   },
   "source": [
    "# Reading from files\n",
    "\n",
    "You have seen how to read from a file with `pandas.read_csv` before, but python has a more low-level interface to read from any file.\n",
    "\n",
    "Let’s write to a file"
   ]
  },
  {
   "cell_type": "code",
   "execution_count": 8,
   "metadata": {
    "colab": {},
    "colab_type": "code",
    "hide-output": false,
    "id": "l9aSzTfwgCcA"
   },
   "outputs": [],
   "source": [
    "f = open('newfile.txt', 'w')   # Open 'newfile.txt' for writing\n",
    "f.write('Concordia\\n')           # '\\n' adds a new line\n",
    "f.write('Bootcamps!')\n",
    "f.close()                      # Close the file "
   ]
  },
  {
   "cell_type": "markdown",
   "metadata": {
    "colab_type": "text",
    "id": "rSjaNVregCcD"
   },
   "source": [
    "Here\n",
    "\n",
    "- The built-in function `open()` creates a file object for writing to.  \n",
    "- Both `write()` and `close()` are methods of file objects.  \n",
    "\n",
    "Where is the file that we’ve created?\n",
    "\n",
    "Like the terminal shell, your running python instance has a concept of the pwd (present working directory).\n",
    "\n",
    "We can access it with the jupyter `!` shell commands:"
   ]
  },
  {
   "cell_type": "code",
   "execution_count": 9,
   "metadata": {
    "colab": {},
    "colab_type": "code",
    "hide-output": false,
    "id": "7F8aURm4gCcE"
   },
   "outputs": [
    {
     "name": "stdout",
     "output_type": "stream",
     "text": [
      "/Users/mranger/Documents/Projects/Drive Syncs/Module 1 Programming/1.6 Python Intro pt.2\n"
     ]
    }
   ],
   "source": [
    "!pwd"
   ]
  },
  {
   "cell_type": "markdown",
   "metadata": {},
   "source": [
    "However, we can also get it from python directly:"
   ]
  },
  {
   "cell_type": "code",
   "execution_count": 5,
   "metadata": {},
   "outputs": [
    {
     "data": {
      "text/plain": [
       "'/Users/mranger/Documents/Projects/Drive Syncs/Module 1 Programming/1.6 Python Intro pt.2'"
      ]
     },
     "execution_count": 5,
     "metadata": {},
     "output_type": "execute_result"
    }
   ],
   "source": [
    "import os\n",
    "\n",
    "# equivalent to ls\n",
    "os.listdir()\n",
    "# equivalent to pwd\n",
    "os.getcwd()"
   ]
  },
  {
   "cell_type": "markdown",
   "metadata": {
    "colab_type": "text",
    "id": "Jxh0JE4mgCcG"
   },
   "source": [
    "If a path is not specified, then this is where Python writes to.\n",
    "\n",
    "Normally this is next to where the notebook file is.\n",
    "\n",
    "We can specify a specific path to write the file to by putting it in front of the file:"
   ]
  },
  {
   "cell_type": "code",
   "execution_count": 10,
   "metadata": {},
   "outputs": [],
   "source": [
    "# f = open('/Users/mranger/Documents/Projects/Drive Syncs/Module 1 Programming/1.6 Python Intro pt.2/newfile.txt', 'w')\n",
    "# f.close() "
   ]
  },
  {
   "cell_type": "markdown",
   "metadata": {},
   "source": [
    "We can also use Python to read the contents of `newline.txt` as follows:"
   ]
  },
  {
   "cell_type": "code",
   "execution_count": 11,
   "metadata": {
    "colab": {},
    "colab_type": "code",
    "hide-output": false,
    "id": "bNEBSB6igCcH"
   },
   "outputs": [
    {
     "data": {
      "text/plain": [
       "'Concordia\\nBootcamps!'"
      ]
     },
     "execution_count": 11,
     "metadata": {},
     "output_type": "execute_result"
    }
   ],
   "source": [
    "f = open('newfile.txt', 'r')\n",
    "out = f.read()\n",
    "out"
   ]
  },
  {
   "cell_type": "code",
   "execution_count": 12,
   "metadata": {
    "colab": {},
    "colab_type": "code",
    "hide-output": false,
    "id": "WfaUpIqSgCcK"
   },
   "outputs": [
    {
     "name": "stdout",
     "output_type": "stream",
     "text": [
      "Concordia\n",
      "Bootcamps!\n"
     ]
    }
   ],
   "source": [
    "print(out) # Notice the \\n being read as a line now"
   ]
  },
  {
   "cell_type": "code",
   "execution_count": 13,
   "metadata": {
    "colab": {},
    "colab_type": "code",
    "hide-output": false,
    "id": "HWevobf2gCcP"
   },
   "outputs": [],
   "source": [
    "# \"with block\" automatically closes th block when exiting\n",
    "with open('cities.csv', 'w') as f:\n",
    "    f.write(\n",
    "    \"\"\"city, population\n",
    "    new york, 8244910\n",
    "    los angeles, 3819702\n",
    "    chicago, 2707120\n",
    "    houston, 2145146\n",
    "    philadelphia, 1536471\n",
    "    phoenix, 1469471\n",
    "    san antonio, 1359758\n",
    "    san diego, 1326179\n",
    "    dallas, 1223229\"\"\")"
   ]
  },
  {
   "cell_type": "markdown",
   "metadata": {},
   "source": [
    "Note the `\"\"\"string\"\"\"` syntax here that lets you write multi-line strings"
   ]
  },
  {
   "cell_type": "code",
   "execution_count": 7,
   "metadata": {},
   "outputs": [
    {
     "data": {
      "text/html": [
       "<div>\n",
       "<style scoped>\n",
       "    .dataframe tbody tr th:only-of-type {\n",
       "        vertical-align: middle;\n",
       "    }\n",
       "\n",
       "    .dataframe tbody tr th {\n",
       "        vertical-align: top;\n",
       "    }\n",
       "\n",
       "    .dataframe thead th {\n",
       "        text-align: right;\n",
       "    }\n",
       "</style>\n",
       "<table border=\"1\" class=\"dataframe\">\n",
       "  <thead>\n",
       "    <tr style=\"text-align: right;\">\n",
       "      <th></th>\n",
       "      <th>new york</th>\n",
       "      <th>8244910</th>\n",
       "    </tr>\n",
       "  </thead>\n",
       "  <tbody>\n",
       "    <tr>\n",
       "      <th>0</th>\n",
       "      <td>los angeles</td>\n",
       "      <td>3819702</td>\n",
       "    </tr>\n",
       "    <tr>\n",
       "      <th>1</th>\n",
       "      <td>chicago</td>\n",
       "      <td>2707120</td>\n",
       "    </tr>\n",
       "    <tr>\n",
       "      <th>2</th>\n",
       "      <td>houston</td>\n",
       "      <td>2145146</td>\n",
       "    </tr>\n",
       "    <tr>\n",
       "      <th>3</th>\n",
       "      <td>philadelphia</td>\n",
       "      <td>1536471</td>\n",
       "    </tr>\n",
       "    <tr>\n",
       "      <th>4</th>\n",
       "      <td>phoenix</td>\n",
       "      <td>1469471</td>\n",
       "    </tr>\n",
       "    <tr>\n",
       "      <th>5</th>\n",
       "      <td>san antonio</td>\n",
       "      <td>1359758</td>\n",
       "    </tr>\n",
       "    <tr>\n",
       "      <th>6</th>\n",
       "      <td>san diego</td>\n",
       "      <td>1326179</td>\n",
       "    </tr>\n",
       "    <tr>\n",
       "      <th>7</th>\n",
       "      <td>dallas</td>\n",
       "      <td>1223229</td>\n",
       "    </tr>\n",
       "  </tbody>\n",
       "</table>\n",
       "</div>"
      ],
      "text/plain": [
       "       new york   8244910\n",
       "0   los angeles   3819702\n",
       "1       chicago   2707120\n",
       "2       houston   2145146\n",
       "3  philadelphia   1536471\n",
       "4       phoenix   1469471\n",
       "5   san antonio   1359758\n",
       "6     san diego   1326179\n",
       "7        dallas   1223229"
      ]
     },
     "execution_count": 7,
     "metadata": {},
     "output_type": "execute_result"
    }
   ],
   "source": [
    "import pandas as pd\n",
    "pd.read_csv(\"cities.csv\")"
   ]
  },
  {
   "cell_type": "markdown",
   "metadata": {},
   "source": [
    "We already know that we can read these files with pandas:"
   ]
  },
  {
   "cell_type": "code",
   "execution_count": 15,
   "metadata": {},
   "outputs": [
    {
     "data": {
      "text/html": [
       "<div>\n",
       "<style scoped>\n",
       "    .dataframe tbody tr th:only-of-type {\n",
       "        vertical-align: middle;\n",
       "    }\n",
       "\n",
       "    .dataframe tbody tr th {\n",
       "        vertical-align: top;\n",
       "    }\n",
       "\n",
       "    .dataframe thead th {\n",
       "        text-align: right;\n",
       "    }\n",
       "</style>\n",
       "<table border=\"1\" class=\"dataframe\">\n",
       "  <thead>\n",
       "    <tr style=\"text-align: right;\">\n",
       "      <th></th>\n",
       "      <th>city</th>\n",
       "      <th>population</th>\n",
       "    </tr>\n",
       "  </thead>\n",
       "  <tbody>\n",
       "    <tr>\n",
       "      <th>0</th>\n",
       "      <td>new york</td>\n",
       "      <td>8244910</td>\n",
       "    </tr>\n",
       "    <tr>\n",
       "      <th>1</th>\n",
       "      <td>los angeles</td>\n",
       "      <td>3819702</td>\n",
       "    </tr>\n",
       "    <tr>\n",
       "      <th>2</th>\n",
       "      <td>chicago</td>\n",
       "      <td>2707120</td>\n",
       "    </tr>\n",
       "    <tr>\n",
       "      <th>3</th>\n",
       "      <td>houston</td>\n",
       "      <td>2145146</td>\n",
       "    </tr>\n",
       "    <tr>\n",
       "      <th>4</th>\n",
       "      <td>philadelphia</td>\n",
       "      <td>1536471</td>\n",
       "    </tr>\n",
       "    <tr>\n",
       "      <th>5</th>\n",
       "      <td>phoenix</td>\n",
       "      <td>1469471</td>\n",
       "    </tr>\n",
       "    <tr>\n",
       "      <th>6</th>\n",
       "      <td>san antonio</td>\n",
       "      <td>1359758</td>\n",
       "    </tr>\n",
       "    <tr>\n",
       "      <th>7</th>\n",
       "      <td>san diego</td>\n",
       "      <td>1326179</td>\n",
       "    </tr>\n",
       "    <tr>\n",
       "      <th>8</th>\n",
       "      <td>dallas</td>\n",
       "      <td>1223229</td>\n",
       "    </tr>\n",
       "  </tbody>\n",
       "</table>\n",
       "</div>"
      ],
      "text/plain": [
       "           city   population\n",
       "0      new york      8244910\n",
       "1   los angeles      3819702\n",
       "2       chicago      2707120\n",
       "3       houston      2145146\n",
       "4  philadelphia      1536471\n",
       "5       phoenix      1469471\n",
       "6   san antonio      1359758\n",
       "7     san diego      1326179\n",
       "8        dallas      1223229"
      ]
     },
     "execution_count": 15,
     "metadata": {},
     "output_type": "execute_result"
    }
   ],
   "source": [
    "import pandas as pd\n",
    "\n",
    "# We could read this file with whatever extension\n",
    "# as long as it's organized like a csv file\n",
    "pd.read_csv('cities.csv')"
   ]
  },
  {
   "cell_type": "markdown",
   "metadata": {
    "colab_type": "text",
    "id": "oi4qHNmagCcO"
   },
   "source": [
    "# File types\n",
    "\n",
    "Common operating systems use file extensions to tell programs how the file is organized. Here are a few common ones:\n",
    "\n",
    "- `.txt` which are arbitrary text files. You can open them in text editing programs (VS Code, Sublime Text, Notepad, Micro, Vim, etc.)\n",
    "\n",
    "- Some files are text files but have extensions to hint about how they're organized. For instance, a `.py` file is a text file which we hint contains python code.\n",
    "\n",
    "- Files with extensions like `.exe` (in Windows) or `.bin` are **binary** files -- they're encoded directly as 1's and 0's for the operating system to read. (Try opening a `.exe` file in sublime text to see this)\n",
    "\n",
    "### CSV files\n",
    "\n",
    "A CSV file is a common kind of file used for data which is organized by **records** (one per line) with **fields** (separated by commas). Let's write one such file:ferent Objects\n",
    "\n",
    "Many Python objects are “iterable”, in the sense that they can be looped over.\n",
    "\n",
    "To give an example, let’s write the file us_cities.txt, which lists US cities and their population, to the present working directory.\n"
   ]
  },
  {
   "cell_type": "code",
   "execution_count": 17,
   "metadata": {
    "colab": {},
    "colab_type": "code",
    "hide-output": false,
    "id": "S_Ob98Q3gCcS"
   },
   "outputs": [
    {
     "data": {
      "text/plain": [
       "[['city', ' population\\n'],\n",
       " ['new york', ' 8244910\\n'],\n",
       " ['los angeles', ' 3819702\\n'],\n",
       " ['chicago', ' 2707120\\n'],\n",
       " ['houston', ' 2145146\\n'],\n",
       " ['philadelphia', ' 1536471\\n'],\n",
       " ['phoenix', ' 1469471\\n'],\n",
       " ['san antonio', ' 1359758\\n'],\n",
       " ['san diego', ' 1326179\\n'],\n",
       " ['dallas', ' 1223229']]"
      ]
     },
     "execution_count": 17,
     "metadata": {},
     "output_type": "execute_result"
    }
   ],
   "source": [
    "data_file = open('cities.csv', 'r')\n",
    "\n",
    "cities = []\n",
    "\n",
    "lines = data_file.readlines()\n",
    "\n",
    "for line in lines:\n",
    "    fields = line.split(',')\n",
    "    cities.append(fields)\n",
    "    \n",
    "data_file.close()\n",
    "\n",
    "cities"
   ]
  },
  {
   "cell_type": "markdown",
   "metadata": {},
   "source": [
    "Note that the file **header** (first line naming the columns) is read as well as all the `\\n` characters"
   ]
  },
  {
   "cell_type": "code",
   "execution_count": 24,
   "metadata": {},
   "outputs": [
    {
     "data": {
      "text/plain": [
       "{'los angeles': 3819702,\n",
       " 'chicago': 2707120,\n",
       " 'houston': 2145146,\n",
       " 'philadelphia': 1536471,\n",
       " 'phoenix': 1469471,\n",
       " 'san antonio': 1359758,\n",
       " 'san diego': 1326179,\n",
       " 'dallas': 1223229}"
      ]
     },
     "execution_count": 24,
     "metadata": {},
     "output_type": "execute_result"
    }
   ],
   "source": [
    "### Exercise: \n",
    "### Clean them out so that we read into a dict city -> pop (int)\n",
    "\n",
    "data_file = open('cities.csv', 'r')\n",
    "\n",
    "cities = []\n",
    "lines = data_file.readlines()\n",
    "\n",
    "for line in lines[1:]: # Skip first line because it's headers\n",
    "    fields = line.replace('\\n', '').split(',') #remove the \\n to clean up and easier to read\n",
    "    fields[1] = int(fields[1])\n",
    "    cities.append(fields)\n",
    "data_file.close()\n",
    "\n",
    "cities = cities[1:]\n",
    "\n",
    "dict(cities)"
   ]
  },
  {
   "cell_type": "markdown",
   "metadata": {},
   "source": [
    "# Exceptions\n",
    "\n",
    "Most of the time when a Python script fails, it will raise an Exception. "
   ]
  },
  {
   "cell_type": "code",
   "execution_count": 25,
   "metadata": {},
   "outputs": [
    {
     "ename": "ZeroDivisionError",
     "evalue": "division by zero",
     "output_type": "error",
     "traceback": [
      "\u001b[0;31m---------------------------------------------------------------------------\u001b[0m",
      "\u001b[0;31mZeroDivisionError\u001b[0m                         Traceback (most recent call last)",
      "\u001b[0;32m<ipython-input-25-adafc2937013>\u001b[0m in \u001b[0;36m<module>\u001b[0;34m\u001b[0m\n\u001b[0;32m----> 1\u001b[0;31m \u001b[0;36m5\u001b[0m \u001b[0;34m/\u001b[0m \u001b[0;36m0\u001b[0m\u001b[0;34m\u001b[0m\u001b[0;34m\u001b[0m\u001b[0m\n\u001b[0m",
      "\u001b[0;31mZeroDivisionError\u001b[0m: division by zero"
     ]
    }
   ],
   "source": [
    "5 / 0"
   ]
  },
  {
   "cell_type": "markdown",
   "metadata": {},
   "source": [
    "When the interpreter hits one of these exceptions, information about the cause of the error can be found in the traceback, which can be accessed from within Python."
   ]
  },
  {
   "cell_type": "code",
   "execution_count": 26,
   "metadata": {},
   "outputs": [
    {
     "ename": "ZeroDivisionError",
     "evalue": "division by zero",
     "output_type": "error",
     "traceback": [
      "\u001b[0;31m---------------------------------------------------------------------------\u001b[0m",
      "\u001b[0;31mZeroDivisionError\u001b[0m                         Traceback (most recent call last)",
      "\u001b[0;32m<ipython-input-26-e648e1ffa27c>\u001b[0m in \u001b[0;36m<module>\u001b[0;34m\u001b[0m\n\u001b[1;32m      5\u001b[0m     \u001b[0;32mreturn\u001b[0m \u001b[0mf2\u001b[0m\u001b[0;34m(\u001b[0m\u001b[0mx\u001b[0m\u001b[0;34m)\u001b[0m\u001b[0;34m\u001b[0m\u001b[0;34m\u001b[0m\u001b[0m\n\u001b[1;32m      6\u001b[0m \u001b[0;34m\u001b[0m\u001b[0m\n\u001b[0;32m----> 7\u001b[0;31m \u001b[0mf1\u001b[0m\u001b[0;34m(\u001b[0m\u001b[0;36m0\u001b[0m\u001b[0;34m)\u001b[0m\u001b[0;34m\u001b[0m\u001b[0;34m\u001b[0m\u001b[0m\n\u001b[0m",
      "\u001b[0;32m<ipython-input-26-e648e1ffa27c>\u001b[0m in \u001b[0;36mf1\u001b[0;34m(x)\u001b[0m\n\u001b[1;32m      3\u001b[0m \u001b[0;34m\u001b[0m\u001b[0m\n\u001b[1;32m      4\u001b[0m \u001b[0;32mdef\u001b[0m \u001b[0mf1\u001b[0m\u001b[0;34m(\u001b[0m\u001b[0mx\u001b[0m\u001b[0;34m)\u001b[0m\u001b[0;34m:\u001b[0m\u001b[0;34m\u001b[0m\u001b[0;34m\u001b[0m\u001b[0m\n\u001b[0;32m----> 5\u001b[0;31m     \u001b[0;32mreturn\u001b[0m \u001b[0mf2\u001b[0m\u001b[0;34m(\u001b[0m\u001b[0mx\u001b[0m\u001b[0;34m)\u001b[0m\u001b[0;34m\u001b[0m\u001b[0;34m\u001b[0m\u001b[0m\n\u001b[0m\u001b[1;32m      6\u001b[0m \u001b[0;34m\u001b[0m\u001b[0m\n\u001b[1;32m      7\u001b[0m \u001b[0mf1\u001b[0m\u001b[0;34m(\u001b[0m\u001b[0;36m0\u001b[0m\u001b[0;34m)\u001b[0m\u001b[0;34m\u001b[0m\u001b[0;34m\u001b[0m\u001b[0m\n",
      "\u001b[0;32m<ipython-input-26-e648e1ffa27c>\u001b[0m in \u001b[0;36mf2\u001b[0;34m(x)\u001b[0m\n\u001b[1;32m      1\u001b[0m \u001b[0;32mdef\u001b[0m \u001b[0mf2\u001b[0m\u001b[0;34m(\u001b[0m\u001b[0mx\u001b[0m\u001b[0;34m)\u001b[0m\u001b[0;34m:\u001b[0m\u001b[0;34m\u001b[0m\u001b[0;34m\u001b[0m\u001b[0m\n\u001b[0;32m----> 2\u001b[0;31m     \u001b[0;32mreturn\u001b[0m \u001b[0;36m5\u001b[0m \u001b[0;34m/\u001b[0m \u001b[0mx\u001b[0m\u001b[0;34m\u001b[0m\u001b[0;34m\u001b[0m\u001b[0m\n\u001b[0m\u001b[1;32m      3\u001b[0m \u001b[0;34m\u001b[0m\u001b[0m\n\u001b[1;32m      4\u001b[0m \u001b[0;32mdef\u001b[0m \u001b[0mf1\u001b[0m\u001b[0;34m(\u001b[0m\u001b[0mx\u001b[0m\u001b[0;34m)\u001b[0m\u001b[0;34m:\u001b[0m\u001b[0;34m\u001b[0m\u001b[0;34m\u001b[0m\u001b[0m\n\u001b[1;32m      5\u001b[0m     \u001b[0;32mreturn\u001b[0m \u001b[0mf2\u001b[0m\u001b[0;34m(\u001b[0m\u001b[0mx\u001b[0m\u001b[0;34m)\u001b[0m\u001b[0;34m\u001b[0m\u001b[0;34m\u001b[0m\u001b[0m\n",
      "\u001b[0;31mZeroDivisionError\u001b[0m: division by zero"
     ]
    }
   ],
   "source": [
    "def f2(x):\n",
    "    return 5 / x\n",
    "\n",
    "def f1(x):\n",
    "    return f2(x)\n",
    "\n",
    "f1(0)"
   ]
  },
  {
   "cell_type": "markdown",
   "metadata": {},
   "source": [
    "The trace back follows the **call stack** is bottom up showing the functions called all the way from the top level code to the error.\n",
    "\n",
    "We can **catch** exceptions to handle them instead of letting the program fail with a `try/catch` statement:"
   ]
  },
  {
   "cell_type": "code",
   "execution_count": 33,
   "metadata": {},
   "outputs": [
    {
     "name": "stdout",
     "output_type": "stream",
     "text": [
      "-----ERROR:  division by zero\n"
     ]
    }
   ],
   "source": [
    "try:\n",
    "    f1(0)\n",
    "except Exception as e:\n",
    "    print(\"-----ERROR: \", end=\" \")\n",
    "    print(str(e))"
   ]
  },
  {
   "cell_type": "markdown",
   "metadata": {},
   "source": [
    "We can also catch specific types of errors. Catching all errors is generally considered bad because it makes it impossible for the program to crash/stop normally."
   ]
  },
  {
   "cell_type": "code",
   "execution_count": 34,
   "metadata": {},
   "outputs": [
    {
     "name": "stdout",
     "output_type": "stream",
     "text": [
      "0\n"
     ]
    }
   ],
   "source": [
    "try:\n",
    "    z = f1(0)\n",
    "except ZeroDivisionError as ze:\n",
    "    z = 0\n",
    "\n",
    "print(z)"
   ]
  },
  {
   "cell_type": "markdown",
   "metadata": {},
   "source": [
    "We can also `raise` exceptions ourselves:"
   ]
  },
  {
   "cell_type": "code",
   "execution_count": 28,
   "metadata": {},
   "outputs": [
    {
     "ename": "ValueError",
     "evalue": "",
     "output_type": "error",
     "traceback": [
      "\u001b[0;31m---------------------------------------------------------------------------\u001b[0m",
      "\u001b[0;31mValueError\u001b[0m                                Traceback (most recent call last)",
      "\u001b[0;32m<ipython-input-28-e4c8e09828d5>\u001b[0m in \u001b[0;36m<module>\u001b[0;34m\u001b[0m\n\u001b[0;32m----> 1\u001b[0;31m \u001b[0;32mraise\u001b[0m \u001b[0mValueError\u001b[0m\u001b[0;34m\u001b[0m\u001b[0;34m\u001b[0m\u001b[0m\n\u001b[0m",
      "\u001b[0;31mValueError\u001b[0m: "
     ]
    }
   ],
   "source": [
    "raise ValueError"
   ]
  },
  {
   "cell_type": "markdown",
   "metadata": {},
   "source": [
    "Which is useful to handle bad data:"
   ]
  },
  {
   "cell_type": "code",
   "execution_count": 35,
   "metadata": {},
   "outputs": [],
   "source": [
    "def divide_safe(x):\n",
    "    try:\n",
    "        return 5 / x\n",
    "    except ZeroDivisionError:\n",
    "        return 0"
   ]
  },
  {
   "cell_type": "markdown",
   "metadata": {},
   "source": [
    "# Writing Python in a .py program\n",
    "\n",
    "We can write a program directly in a `.py` file and run it using `python my_program.py` in the terminal.\n",
    "\n",
    "Here we can define `if __name__ == '__main__':` as the block defining the **entry point**\n",
    "\n",
    "And we can treat the `.py` file as text or as a python module"
   ]
  },
  {
   "cell_type": "code",
   "execution_count": 6,
   "metadata": {},
   "outputs": [],
   "source": [
    "# \"with block\" automatically closes th block when exiting\n",
    "with open('test.py', 'w') as f:\n",
    "    f.write(\n",
    "\"\"\"\n",
    "import numpy as np\n",
    "\n",
    "def double_square(x):\n",
    "    return np.square(np.square(x))\n",
    "\"\"\")"
   ]
  },
  {
   "cell_type": "markdown",
   "metadata": {},
   "source": [
    "We can treat it as text:"
   ]
  },
  {
   "cell_type": "code",
   "execution_count": 12,
   "metadata": {},
   "outputs": [
    {
     "name": "stdout",
     "output_type": "stream",
     "text": [
      "\n",
      "import numpy as np\n",
      "\n",
      "def double_square(x):\n",
      "    return np.square(np.square(x))\n",
      "\n"
     ]
    }
   ],
   "source": [
    "with open('test.py', 'r') as f:\n",
    "    print(f.read())"
   ]
  },
  {
   "cell_type": "markdown",
   "metadata": {},
   "source": [
    "But we can also `import`  it as a python library!"
   ]
  },
  {
   "cell_type": "code",
   "execution_count": 9,
   "metadata": {},
   "outputs": [
    {
     "data": {
      "text/plain": [
       "625"
      ]
     },
     "execution_count": 9,
     "metadata": {},
     "output_type": "execute_result"
    }
   ],
   "source": [
    "import test\n",
    "\n",
    "test.double_square(5)"
   ]
  },
  {
   "cell_type": "markdown",
   "metadata": {},
   "source": []
  },
  {
   "cell_type": "code",
   "execution_count": null,
   "metadata": {},
   "outputs": [],
   "source": []
  },
  {
   "cell_type": "code",
   "execution_count": null,
   "metadata": {},
   "outputs": [],
   "source": []
  },
  {
   "cell_type": "code",
   "execution_count": null,
   "metadata": {},
   "outputs": [],
   "source": []
  },
  {
   "cell_type": "code",
   "execution_count": null,
   "metadata": {},
   "outputs": [],
   "source": []
  }
 ],
 "metadata": {
  "colab": {
   "collapsed_sections": [
    "X2ld6UWHgCa8",
    "uvPHsevrgCbZ",
    "7EfPoFTPgCbp",
    "tlHqp-z4gCcM",
    "gDaUYdhXgCcP",
    "OwvOu9J4gCcV",
    "6U2OQKkKgCci",
    "ztiuny9FgCcr",
    "g8bPtuKWgCdR",
    "GjviaTTBgCdd",
    "nv1stJJngCdh",
    "txQgJeXAgCdn",
    "35Wb9tb1gCdv",
    "SXx9xfoKgCd3",
    "fVAc5NqtgCd3",
    "NuUIygr0gCd3",
    "58YjgRqwgCd4",
    "Jlyg1FXngCd4",
    "mtRTNsUhgCd4",
    "Cd1x1ld9gCd6",
    "GLLHmjzGgCd7",
    "1bFbxlkLgCd-",
    "XuDPT_xigCeF",
    "riVVvJkLgCeI",
    "Hti5Ln1rgCeL",
    "OczvuXpngCeP",
    "GSCF4FnsgCeV",
    "e9YX4UtigCeX"
   ],
   "name": "python_essentials.ipynb",
   "provenance": []
  },
  "date": 1595222633.2477856,
  "filename": "python_essentials.rst",
  "kernelspec": {
   "display_name": "Python 3.7.7 64-bit ('icbs': conda)",
   "language": "python3",
   "name": "python37764biticbscondaf4d657c25dbb416bac6851c38201b968"
  },
  "next_doc": {
   "link": "oop_intro",
   "title": "OOP I: Introduction to Object Oriented Programming"
  },
  "prev_doc": {
   "link": "functions",
   "title": "Functions"
  },
  "title": "Python Essentials"
 },
 "nbformat": 4,
 "nbformat_minor": 1
}
